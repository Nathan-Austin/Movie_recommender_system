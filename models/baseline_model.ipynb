{
 "cells": [
  {
   "cell_type": "code",
   "execution_count": 1,
   "metadata": {},
   "outputs": [],
   "source": [
    "import pandas as pd\n",
    "import numpy as np\n",
    "import seaborn as sns\n",
    "import matplotlib.pyplot as plt\n",
    "\n",
    "plt.style.use('ggplot')"
   ]
  },
  {
   "cell_type": "code",
   "execution_count": 3,
   "metadata": {},
   "outputs": [],
   "source": [
    "ratings = pd.read_csv(\"web_app/ratings.csv\")\n",
    "movies = pd.read_csv(\"web_app/movies.csv\")"
   ]
  },
  {
   "cell_type": "code",
   "execution_count": 4,
   "metadata": {},
   "outputs": [],
   "source": [
    "ratings = pd.DataFrame(ratings)\n",
    "df = ratings.merge(movies, on='movieId')\n",
    "df['title'] = df['title'].str.extract('(.*)\\(')"
   ]
  },
  {
   "cell_type": "code",
   "execution_count": 5,
   "metadata": {},
   "outputs": [],
   "source": [
    "movies_avg_rating = df.groupby('movieId')['rating'].mean().loc[df.groupby('movieId')['rating'].count() > 20]"
   ]
  },
  {
   "cell_type": "code",
   "execution_count": 6,
   "metadata": {},
   "outputs": [],
   "source": [
    "movies_avg_rating = pd.DataFrame(movies_avg_rating)"
   ]
  },
  {
   "cell_type": "code",
   "execution_count": 7,
   "metadata": {},
   "outputs": [],
   "source": [
    "movies_avg_rating.sort_values('rating', inplace=True, ascending=False)"
   ]
  },
  {
   "cell_type": "code",
   "execution_count": 8,
   "metadata": {},
   "outputs": [],
   "source": [
    "def ids_to_titles(input):\n",
    "\n",
    "    results = []\n",
    "\n",
    "    for movie in input:\n",
    "        results.append(df[df['movieId']==movie]['title'].values[0])\n",
    "        \n",
    "    return results"
   ]
  },
  {
   "cell_type": "code",
   "execution_count": 9,
   "metadata": {},
   "outputs": [],
   "source": [
    "def recommend(query, ratings, k=10, titles=False):\n",
    "    \n",
    "    results = []\n",
    "    i = 0\n",
    "\n",
    "    while len(results) < k:\n",
    "        if ratings[i:i+1].index[0] not in query:\n",
    "            results.append(ratings[i:i+1].index[0])\n",
    "        else:\n",
    "            pass\n",
    "        i += 1    \n",
    "    \n",
    "    if titles:\n",
    "        results = ids_to_titles(results)\n",
    "    \n",
    "    return results"
   ]
  },
  {
   "cell_type": "code",
   "execution_count": 10,
   "metadata": {},
   "outputs": [],
   "source": [
    "user_query = {12: 5, 234: 1, 234: 4.5, 318: 3}"
   ]
  },
  {
   "cell_type": "code",
   "execution_count": 11,
   "metadata": {},
   "outputs": [
    {
     "data": {
      "text/plain": [
       "[922, 898, 475, 1204, 246, 858, 1235, 168252, 2959, 1276]"
      ]
     },
     "execution_count": 11,
     "metadata": {},
     "output_type": "execute_result"
    }
   ],
   "source": [
    "recommend(user_query, movies_avg_rating)"
   ]
  },
  {
   "cell_type": "code",
   "execution_count": 12,
   "metadata": {},
   "outputs": [
    {
     "data": {
      "text/plain": [
       "['Sunset Blvd. (a.k.a. Sunset Boulevard) ',\n",
       " 'Philadelphia Story, The ',\n",
       " 'In the Name of the Father ',\n",
       " 'Lawrence of Arabia ',\n",
       " 'Hoop Dreams ',\n",
       " 'Godfather, The ',\n",
       " 'Harold and Maude ',\n",
       " 'Logan ',\n",
       " 'Fight Club ',\n",
       " 'Cool Hand Luke ']"
      ]
     },
     "execution_count": 12,
     "metadata": {},
     "output_type": "execute_result"
    }
   ],
   "source": [
    "recommend(user_query, movies_avg_rating, titles=True)"
   ]
  },
  {
   "cell_type": "code",
   "execution_count": 13,
   "metadata": {},
   "outputs": [],
   "source": [
    "x_test = {300: 4, 123:5}"
   ]
  },
  {
   "cell_type": "code",
   "execution_count": 14,
   "metadata": {},
   "outputs": [
    {
     "ename": "NameError",
     "evalue": "name 'model' is not defined",
     "output_type": "error",
     "traceback": [
      "\u001b[0;31m---------------------------------------------------------------------------\u001b[0m",
      "\u001b[0;31mNameError\u001b[0m                                 Traceback (most recent call last)",
      "\u001b[0;32m/tmp/ipykernel_221022/4086421725.py\u001b[0m in \u001b[0;36m<module>\u001b[0;34m\u001b[0m\n\u001b[0;32m----> 1\u001b[0;31m \u001b[0mmodel\u001b[0m\u001b[0;34m.\u001b[0m\u001b[0mpredict\u001b[0m\u001b[0;34m(\u001b[0m\u001b[0mx_test\u001b[0m\u001b[0;34m)\u001b[0m\u001b[0;34m\u001b[0m\u001b[0;34m\u001b[0m\u001b[0m\n\u001b[0m",
      "\u001b[0;31mNameError\u001b[0m: name 'model' is not defined"
     ]
    }
   ],
   "source": [
    "model.predict(x_test)"
   ]
  },
  {
   "cell_type": "code",
   "execution_count": null,
   "metadata": {},
   "outputs": [],
   "source": []
  }
 ],
 "metadata": {
  "kernelspec": {
   "display_name": "Python 3.7.6 ('base')",
   "language": "python",
   "name": "python3"
  },
  "language_info": {
   "codemirror_mode": {
    "name": "ipython",
    "version": 3
   },
   "file_extension": ".py",
   "mimetype": "text/x-python",
   "name": "python",
   "nbconvert_exporter": "python",
   "pygments_lexer": "ipython3",
   "version": "3.7.6"
  },
  "orig_nbformat": 4,
  "vscode": {
   "interpreter": {
    "hash": "05c57a26264523b30fd0b36e5bb1e6303c866ad101debe18bb89ecb199e8c6a0"
   }
  }
 },
 "nbformat": 4,
 "nbformat_minor": 2
}
