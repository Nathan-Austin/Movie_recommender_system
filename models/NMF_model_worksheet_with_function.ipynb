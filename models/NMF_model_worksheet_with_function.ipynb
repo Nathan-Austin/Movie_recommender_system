{
 "cells": [
  {
   "cell_type": "markdown",
   "metadata": {},
   "source": [
    "#### Let's collect some recommendations for a new users that loves Disney Movies! "
   ]
  },
  {
   "cell_type": "code",
   "execution_count": 7,
   "metadata": {},
   "outputs": [],
   "source": [
    "import pandas as pd\n",
    "import numpy as np\n",
    "import seaborn as sns\n",
    "import matplotlib.pyplot as plt\n",
    "from scipy.sparse import csr_matrix\n",
    "from sklearn.decomposition import NMF\n",
    "import pickle"
   ]
  },
  {
   "cell_type": "code",
   "execution_count": 8,
   "metadata": {},
   "outputs": [],
   "source": [
    "# for calculating recommendations\n",
    "query = {\n",
    "    # movieId, rating\n",
    "    4470:5, \n",
    "    48:5,\n",
    "    594:5,\n",
    "    27619:5,\n",
    "    152081:5,\n",
    "    595:5,\n",
    "    616:5,\n",
    "    1029:5\n",
    "}\n",
    "\n",
    "\n",
    "# for testing the recommender after getting some recommendations\n",
    "relevant_items = [\n",
    "    596, 4016, 1033, 134853, \n",
    "    2018, 588, 364, 26999, 75395,2085, \n",
    "    1907, 2078, 1032, 177765   \n",
    "]"
   ]
  },
  {
   "cell_type": "markdown",
   "metadata": {},
   "source": [
    "# Non Negative Matrix Factorization for Recommender Systems\n",
    "---\n",
    "\n"
   ]
  },
  {
   "cell_type": "code",
   "execution_count": 9,
   "metadata": {},
   "outputs": [],
   "source": [
    "ratings = pd.read_csv('ml-latest-small/ratings.csv')\n",
    "movies = pd.read_csv('ml-latest-small/movies.csv')"
   ]
  },
  {
   "cell_type": "code",
   "execution_count": 10,
   "metadata": {
    "scrolled": true
   },
   "outputs": [
    {
     "data": {
      "text/html": [
       "<div>\n",
       "<style scoped>\n",
       "    .dataframe tbody tr th:only-of-type {\n",
       "        vertical-align: middle;\n",
       "    }\n",
       "\n",
       "    .dataframe tbody tr th {\n",
       "        vertical-align: top;\n",
       "    }\n",
       "\n",
       "    .dataframe thead th {\n",
       "        text-align: right;\n",
       "    }\n",
       "</style>\n",
       "<table border=\"1\" class=\"dataframe\">\n",
       "  <thead>\n",
       "    <tr style=\"text-align: right;\">\n",
       "      <th></th>\n",
       "      <th>title</th>\n",
       "      <th>genres</th>\n",
       "    </tr>\n",
       "    <tr>\n",
       "      <th>movieId</th>\n",
       "      <th></th>\n",
       "      <th></th>\n",
       "    </tr>\n",
       "  </thead>\n",
       "  <tbody>\n",
       "    <tr>\n",
       "      <th>4470</th>\n",
       "      <td>Ariel (1988)</td>\n",
       "      <td>Drama</td>\n",
       "    </tr>\n",
       "    <tr>\n",
       "      <th>48</th>\n",
       "      <td>Pocahontas (1995)</td>\n",
       "      <td>Animation|Children|Drama|Musical|Romance</td>\n",
       "    </tr>\n",
       "    <tr>\n",
       "      <th>594</th>\n",
       "      <td>Snow White and the Seven Dwarfs (1937)</td>\n",
       "      <td>Animation|Children|Drama|Fantasy|Musical</td>\n",
       "    </tr>\n",
       "    <tr>\n",
       "      <th>27619</th>\n",
       "      <td>Lion King 1½, The (2004)</td>\n",
       "      <td>Adventure|Animation|Children|Comedy</td>\n",
       "    </tr>\n",
       "    <tr>\n",
       "      <th>152081</th>\n",
       "      <td>Zootopia (2016)</td>\n",
       "      <td>Action|Adventure|Animation|Children|Comedy</td>\n",
       "    </tr>\n",
       "    <tr>\n",
       "      <th>595</th>\n",
       "      <td>Beauty and the Beast (1991)</td>\n",
       "      <td>Animation|Children|Fantasy|Musical|Romance|IMAX</td>\n",
       "    </tr>\n",
       "    <tr>\n",
       "      <th>616</th>\n",
       "      <td>Aristocats, The (1970)</td>\n",
       "      <td>Animation|Children</td>\n",
       "    </tr>\n",
       "    <tr>\n",
       "      <th>1029</th>\n",
       "      <td>Dumbo (1941)</td>\n",
       "      <td>Animation|Children|Drama|Musical</td>\n",
       "    </tr>\n",
       "  </tbody>\n",
       "</table>\n",
       "</div>"
      ],
      "text/plain": [
       "                                          title  \\\n",
       "movieId                                           \n",
       "4470                               Ariel (1988)   \n",
       "48                            Pocahontas (1995)   \n",
       "594      Snow White and the Seven Dwarfs (1937)   \n",
       "27619                  Lion King 1½, The (2004)   \n",
       "152081                          Zootopia (2016)   \n",
       "595                 Beauty and the Beast (1991)   \n",
       "616                      Aristocats, The (1970)   \n",
       "1029                               Dumbo (1941)   \n",
       "\n",
       "                                                  genres  \n",
       "movieId                                                   \n",
       "4470                                               Drama  \n",
       "48              Animation|Children|Drama|Musical|Romance  \n",
       "594             Animation|Children|Drama|Fantasy|Musical  \n",
       "27619                Adventure|Animation|Children|Comedy  \n",
       "152081        Action|Adventure|Animation|Children|Comedy  \n",
       "595      Animation|Children|Fantasy|Musical|Romance|IMAX  \n",
       "616                                   Animation|Children  \n",
       "1029                    Animation|Children|Drama|Musical  "
      ]
     },
     "execution_count": 10,
     "metadata": {},
     "output_type": "execute_result"
    }
   ],
   "source": [
    "# which movies are in the query?\n",
    "movies.set_index('movieId').loc[query.keys()]"
   ]
  },
  {
   "cell_type": "markdown",
   "metadata": {},
   "source": [
    "---\n",
    "## 1. Model Development"
   ]
  },
  {
   "cell_type": "markdown",
   "metadata": {},
   "source": [
    "### Preprocessing\n",
    "\n",
    "- filter out movies rated by less than 20/ 50 / 100 ... users\n",
    "- filter out movies with an average rating lower than 2\n",
    "- create a sparse user item matrix"
   ]
  },
  {
   "cell_type": "code",
   "execution_count": 11,
   "metadata": {},
   "outputs": [
    {
     "data": {
      "text/html": [
       "<div>\n",
       "<style scoped>\n",
       "    .dataframe tbody tr th:only-of-type {\n",
       "        vertical-align: middle;\n",
       "    }\n",
       "\n",
       "    .dataframe tbody tr th {\n",
       "        vertical-align: top;\n",
       "    }\n",
       "\n",
       "    .dataframe thead th {\n",
       "        text-align: right;\n",
       "    }\n",
       "</style>\n",
       "<table border=\"1\" class=\"dataframe\">\n",
       "  <thead>\n",
       "    <tr style=\"text-align: right;\">\n",
       "      <th></th>\n",
       "      <th>userId</th>\n",
       "      <th>movieId</th>\n",
       "      <th>rating</th>\n",
       "      <th>timestamp</th>\n",
       "    </tr>\n",
       "  </thead>\n",
       "  <tbody>\n",
       "    <tr>\n",
       "      <th>0</th>\n",
       "      <td>1</td>\n",
       "      <td>1</td>\n",
       "      <td>4.0</td>\n",
       "      <td>964982703</td>\n",
       "    </tr>\n",
       "    <tr>\n",
       "      <th>1</th>\n",
       "      <td>1</td>\n",
       "      <td>3</td>\n",
       "      <td>4.0</td>\n",
       "      <td>964981247</td>\n",
       "    </tr>\n",
       "    <tr>\n",
       "      <th>2</th>\n",
       "      <td>1</td>\n",
       "      <td>6</td>\n",
       "      <td>4.0</td>\n",
       "      <td>964982224</td>\n",
       "    </tr>\n",
       "    <tr>\n",
       "      <th>3</th>\n",
       "      <td>1</td>\n",
       "      <td>47</td>\n",
       "      <td>5.0</td>\n",
       "      <td>964983815</td>\n",
       "    </tr>\n",
       "    <tr>\n",
       "      <th>4</th>\n",
       "      <td>1</td>\n",
       "      <td>50</td>\n",
       "      <td>5.0</td>\n",
       "      <td>964982931</td>\n",
       "    </tr>\n",
       "    <tr>\n",
       "      <th>...</th>\n",
       "      <td>...</td>\n",
       "      <td>...</td>\n",
       "      <td>...</td>\n",
       "      <td>...</td>\n",
       "    </tr>\n",
       "    <tr>\n",
       "      <th>100831</th>\n",
       "      <td>610</td>\n",
       "      <td>166534</td>\n",
       "      <td>4.0</td>\n",
       "      <td>1493848402</td>\n",
       "    </tr>\n",
       "    <tr>\n",
       "      <th>100832</th>\n",
       "      <td>610</td>\n",
       "      <td>168248</td>\n",
       "      <td>5.0</td>\n",
       "      <td>1493850091</td>\n",
       "    </tr>\n",
       "    <tr>\n",
       "      <th>100833</th>\n",
       "      <td>610</td>\n",
       "      <td>168250</td>\n",
       "      <td>5.0</td>\n",
       "      <td>1494273047</td>\n",
       "    </tr>\n",
       "    <tr>\n",
       "      <th>100834</th>\n",
       "      <td>610</td>\n",
       "      <td>168252</td>\n",
       "      <td>5.0</td>\n",
       "      <td>1493846352</td>\n",
       "    </tr>\n",
       "    <tr>\n",
       "      <th>100835</th>\n",
       "      <td>610</td>\n",
       "      <td>170875</td>\n",
       "      <td>3.0</td>\n",
       "      <td>1493846415</td>\n",
       "    </tr>\n",
       "  </tbody>\n",
       "</table>\n",
       "<p>100836 rows × 4 columns</p>\n",
       "</div>"
      ],
      "text/plain": [
       "        userId  movieId  rating   timestamp\n",
       "0            1        1     4.0   964982703\n",
       "1            1        3     4.0   964981247\n",
       "2            1        6     4.0   964982224\n",
       "3            1       47     5.0   964983815\n",
       "4            1       50     5.0   964982931\n",
       "...        ...      ...     ...         ...\n",
       "100831     610   166534     4.0  1493848402\n",
       "100832     610   168248     5.0  1493850091\n",
       "100833     610   168250     5.0  1494273047\n",
       "100834     610   168252     5.0  1493846352\n",
       "100835     610   170875     3.0  1493846415\n",
       "\n",
       "[100836 rows x 4 columns]"
      ]
     },
     "execution_count": 11,
     "metadata": {},
     "output_type": "execute_result"
    }
   ],
   "source": [
    "ratings"
   ]
  },
  {
   "cell_type": "code",
   "execution_count": 12,
   "metadata": {},
   "outputs": [
    {
     "data": {
      "text/plain": [
       "movieId\n",
       "1         215\n",
       "2         110\n",
       "3          52\n",
       "4           7\n",
       "5          49\n",
       "         ... \n",
       "193581      1\n",
       "193583      1\n",
       "193585      1\n",
       "193587      1\n",
       "193609      1\n",
       "Name: userId, Length: 9724, dtype: int64"
      ]
     },
     "execution_count": 12,
     "metadata": {},
     "output_type": "execute_result"
    }
   ],
   "source": [
    "# calculate the number of ratings per movie\n",
    "ratings_per_movie = ratings.groupby('movieId')['userId'].count()\n",
    "ratings_per_movie"
   ]
  },
  {
   "cell_type": "code",
   "execution_count": 13,
   "metadata": {},
   "outputs": [
    {
     "data": {
      "text/plain": [
       "movieId\n",
       "1         215\n",
       "2         110\n",
       "3          52\n",
       "5          49\n",
       "6         102\n",
       "         ... \n",
       "148626     26\n",
       "152081     32\n",
       "164179     26\n",
       "166528     27\n",
       "168252     25\n",
       "Name: userId, Length: 1235, dtype: int64"
      ]
     },
     "execution_count": 13,
     "metadata": {},
     "output_type": "execute_result"
    }
   ],
   "source": [
    "# filter for movies with more than 20 ratings and extract the index\n",
    "popular_movies = ratings_per_movie.loc[ratings_per_movie > 20]\n",
    "popular_movies"
   ]
  },
  {
   "cell_type": "code",
   "execution_count": 14,
   "metadata": {},
   "outputs": [
    {
     "data": {
      "text/html": [
       "<div>\n",
       "<style scoped>\n",
       "    .dataframe tbody tr th:only-of-type {\n",
       "        vertical-align: middle;\n",
       "    }\n",
       "\n",
       "    .dataframe tbody tr th {\n",
       "        vertical-align: top;\n",
       "    }\n",
       "\n",
       "    .dataframe thead th {\n",
       "        text-align: right;\n",
       "    }\n",
       "</style>\n",
       "<table border=\"1\" class=\"dataframe\">\n",
       "  <thead>\n",
       "    <tr style=\"text-align: right;\">\n",
       "      <th></th>\n",
       "      <th>movieId</th>\n",
       "      <th>userId</th>\n",
       "      <th>rating</th>\n",
       "      <th>timestamp</th>\n",
       "    </tr>\n",
       "  </thead>\n",
       "  <tbody>\n",
       "    <tr>\n",
       "      <th>0</th>\n",
       "      <td>1</td>\n",
       "      <td>1</td>\n",
       "      <td>4.0</td>\n",
       "      <td>964982703</td>\n",
       "    </tr>\n",
       "    <tr>\n",
       "      <th>1</th>\n",
       "      <td>1</td>\n",
       "      <td>5</td>\n",
       "      <td>4.0</td>\n",
       "      <td>847434962</td>\n",
       "    </tr>\n",
       "    <tr>\n",
       "      <th>2</th>\n",
       "      <td>1</td>\n",
       "      <td>7</td>\n",
       "      <td>4.5</td>\n",
       "      <td>1106635946</td>\n",
       "    </tr>\n",
       "    <tr>\n",
       "      <th>3</th>\n",
       "      <td>1</td>\n",
       "      <td>15</td>\n",
       "      <td>2.5</td>\n",
       "      <td>1510577970</td>\n",
       "    </tr>\n",
       "    <tr>\n",
       "      <th>4</th>\n",
       "      <td>1</td>\n",
       "      <td>17</td>\n",
       "      <td>4.5</td>\n",
       "      <td>1305696483</td>\n",
       "    </tr>\n",
       "    <tr>\n",
       "      <th>...</th>\n",
       "      <td>...</td>\n",
       "      <td>...</td>\n",
       "      <td>...</td>\n",
       "      <td>...</td>\n",
       "    </tr>\n",
       "    <tr>\n",
       "      <th>66653</th>\n",
       "      <td>168252</td>\n",
       "      <td>567</td>\n",
       "      <td>4.0</td>\n",
       "      <td>1525283936</td>\n",
       "    </tr>\n",
       "    <tr>\n",
       "      <th>66654</th>\n",
       "      <td>168252</td>\n",
       "      <td>586</td>\n",
       "      <td>5.0</td>\n",
       "      <td>1529899336</td>\n",
       "    </tr>\n",
       "    <tr>\n",
       "      <th>66655</th>\n",
       "      <td>168252</td>\n",
       "      <td>596</td>\n",
       "      <td>5.0</td>\n",
       "      <td>1535627159</td>\n",
       "    </tr>\n",
       "    <tr>\n",
       "      <th>66656</th>\n",
       "      <td>168252</td>\n",
       "      <td>599</td>\n",
       "      <td>3.5</td>\n",
       "      <td>1498529615</td>\n",
       "    </tr>\n",
       "    <tr>\n",
       "      <th>66657</th>\n",
       "      <td>168252</td>\n",
       "      <td>610</td>\n",
       "      <td>5.0</td>\n",
       "      <td>1493846352</td>\n",
       "    </tr>\n",
       "  </tbody>\n",
       "</table>\n",
       "<p>66658 rows × 4 columns</p>\n",
       "</div>"
      ],
      "text/plain": [
       "       movieId  userId  rating   timestamp\n",
       "0            1       1     4.0   964982703\n",
       "1            1       5     4.0   847434962\n",
       "2            1       7     4.5  1106635946\n",
       "3            1      15     2.5  1510577970\n",
       "4            1      17     4.5  1305696483\n",
       "...        ...     ...     ...         ...\n",
       "66653   168252     567     4.0  1525283936\n",
       "66654   168252     586     5.0  1529899336\n",
       "66655   168252     596     5.0  1535627159\n",
       "66656   168252     599     3.5  1498529615\n",
       "66657   168252     610     5.0  1493846352\n",
       "\n",
       "[66658 rows x 4 columns]"
      ]
     },
     "execution_count": 14,
     "metadata": {},
     "output_type": "execute_result"
    }
   ],
   "source": [
    "# filter the ratings matrix and only keep the popular movies\n",
    "ratings = ratings.set_index('movieId').loc[popular_movies.index]\n",
    "ratings = ratings.reset_index()\n",
    "ratings"
   ]
  },
  {
   "cell_type": "code",
   "execution_count": 15,
   "metadata": {},
   "outputs": [
    {
     "data": {
      "text/plain": [
       "\"user_item = pd.pivot_table(ratings, \\n                           values='rating', \\n                           index='userId', \\n                           columns='movieId'\\n)\\nuser_item\""
      ]
     },
     "execution_count": 15,
     "metadata": {},
     "output_type": "execute_result"
    }
   ],
   "source": [
    "#user_item matrix\n",
    "'''user_item = pd.pivot_table(ratings, \n",
    "                           values='rating', \n",
    "                           index='userId', \n",
    "                           columns='movieId'\n",
    ")\n",
    "user_item'''"
   ]
  },
  {
   "cell_type": "code",
   "execution_count": 16,
   "metadata": {},
   "outputs": [
    {
     "data": {
      "text/plain": [
       "<611x168253 sparse matrix of type '<class 'numpy.float64'>'\n",
       "\twith 66658 stored elements in Compressed Sparse Row format>"
      ]
     },
     "execution_count": 16,
     "metadata": {},
     "output_type": "execute_result"
    }
   ],
   "source": [
    "# Initialize a sparse user-item rating matrix \n",
    "# (data, (row_ind, col_ind)\n",
    "R = csr_matrix((ratings['rating'], (ratings['userId'], ratings['movieId'])))\n",
    "R"
   ]
  },
  {
   "cell_type": "markdown",
   "metadata": {},
   "source": [
    "### Training\n",
    "\n",
    "- initialize the model\n",
    "- fit it on the user item matrix\n"
   ]
  },
  {
   "cell_type": "code",
   "execution_count": 17,
   "metadata": {},
   "outputs": [
    {
     "name": "stdout",
     "output_type": "stream",
     "text": [
      "violation: 1.0\n",
      "violation: 0.3198407444776186\n",
      "violation: 0.18560236151196122\n",
      "violation: 0.13793176709705945\n",
      "violation: 0.11262875034790074\n",
      "violation: 0.09506722095218485\n",
      "violation: 0.08272177587280928\n",
      "violation: 0.07281883187700439\n",
      "violation: 0.06385144916043073\n",
      "violation: 0.05660484722466009\n",
      "violation: 0.05112193173010419\n",
      "violation: 0.04681211487182119\n",
      "violation: 0.04385023840768013\n",
      "violation: 0.0421868583254791\n",
      "violation: 0.04133260886277145\n",
      "violation: 0.04064494044902701\n",
      "violation: 0.03961155980527065\n",
      "violation: 0.037992501545404705\n",
      "violation: 0.03583699426795149\n",
      "violation: 0.033581890989523557\n",
      "violation: 0.03149230602099127\n",
      "violation: 0.029415048278976307\n",
      "violation: 0.02777149885112388\n",
      "violation: 0.02632959750591218\n",
      "violation: 0.02512444539423292\n",
      "violation: 0.02406433475541025\n",
      "violation: 0.023014277912057048\n",
      "violation: 0.02191683843588806\n",
      "violation: 0.02073828130249116\n",
      "violation: 0.01974226233722642\n",
      "violation: 0.018716395628841313\n",
      "violation: 0.017653014497686137\n",
      "violation: 0.016863919319378386\n",
      "violation: 0.016050605210832222\n",
      "violation: 0.015292558919999255\n",
      "violation: 0.014602609039694287\n",
      "violation: 0.013890673995330255\n",
      "violation: 0.013232672707423057\n",
      "violation: 0.012595086561249219\n",
      "violation: 0.012009668990299411\n",
      "violation: 0.011504063658830369\n",
      "violation: 0.011071292708944278\n",
      "violation: 0.01068971725860904\n",
      "violation: 0.010397404132537591\n",
      "violation: 0.01012511430804087\n",
      "violation: 0.009797199449313069\n",
      "Converged at iteration 47\n"
     ]
    },
    {
     "data": {
      "text/plain": [
       "NMF(init='nndsvd', max_iter=10000, n_components=55, tol=0.01, verbose=2)"
      ]
     },
     "execution_count": 17,
     "metadata": {},
     "output_type": "execute_result"
    }
   ],
   "source": [
    "# initialize the unsupervised model\n",
    "# 55 hidden features, F=55\n",
    "model = NMF(n_components=55, init='nndsvd', max_iter=10000, tol=0.01, verbose=2)\n",
    "\n",
    "# fit it to the user-item rating matrix\n",
    "model.fit(R)\n",
    "\n",
    "# initialzed P, Q matrix with random values\n",
    "# iterate and optimize the values stored in P and Q"
   ]
  },
  {
   "cell_type": "markdown",
   "metadata": {},
   "source": [
    "### Model inspection"
   ]
  },
  {
   "cell_type": "code",
   "execution_count": 18,
   "metadata": {},
   "outputs": [
    {
     "data": {
      "text/plain": [
       "<611x168253 sparse matrix of type '<class 'numpy.float64'>'\n",
       "\twith 66658 stored elements in Compressed Sparse Row format>"
      ]
     },
     "execution_count": 18,
     "metadata": {},
     "output_type": "execute_result"
    }
   ],
   "source": [
    "R"
   ]
  },
  {
   "cell_type": "markdown",
   "metadata": {},
   "source": [
    "### Create Rhat "
   ]
  },
  {
   "cell_type": "code",
   "execution_count": 19,
   "metadata": {},
   "outputs": [
    {
     "name": "stdout",
     "output_type": "stream",
     "text": [
      "violation: 1.0\n",
      "violation: 0.7615559462392816\n",
      "violation: 0.27503185222575577\n",
      "violation: 0.11173440074793993\n",
      "violation: 0.05386357992307483\n",
      "violation: 0.029376751626224676\n",
      "violation: 0.017376665463083963\n",
      "violation: 0.01163498181070659\n",
      "violation: 0.007998169482135225\n",
      "Converged at iteration 10\n"
     ]
    }
   ],
   "source": [
    "#####this is the one liner for calculating Rhat\n",
    "\n",
    "# R -> encoding -> P -> decoding -> Rhat\n",
    "R_hat = model.inverse_transform(model.transform(R))"
   ]
  },
  {
   "cell_type": "code",
   "execution_count": 20,
   "metadata": {},
   "outputs": [
    {
     "data": {
      "text/plain": [
       "array([[0.        , 0.        , 0.        , ..., 0.        , 0.        ,\n",
       "        0.        ],\n",
       "       [0.        , 3.50574693, 0.01504283, ..., 0.        , 0.        ,\n",
       "        0.02628296],\n",
       "       [0.        , 0.05102188, 0.0547873 , ..., 0.        , 0.        ,\n",
       "        0.18777417],\n",
       "       ...,\n",
       "       [0.        , 2.46575991, 1.66882392, ..., 0.        , 0.        ,\n",
       "        0.07564565],\n",
       "       [0.        , 0.90262613, 0.52295751, ..., 0.        , 0.        ,\n",
       "        0.04024933],\n",
       "       [0.        , 4.23815562, 0.44559897, ..., 0.        , 0.        ,\n",
       "        5.81622743]])"
      ]
     },
     "execution_count": 20,
     "metadata": {},
     "output_type": "execute_result"
    }
   ],
   "source": [
    "R_hat"
   ]
  },
  {
   "cell_type": "markdown",
   "metadata": {},
   "source": [
    "#### the reconstruction error\n",
    "\n",
    "$$\n",
    "L(R, \\hat{R}) = \\sqrt{\\sum_i\\sum_j(R_{ij}-\\hat{R}_{ij})^2} = \\sqrt{\\sum_i\\sum_j(R_{ij}-PQ_{ij})^2}\n",
    "$$"
   ]
  },
  {
   "cell_type": "code",
   "execution_count": 21,
   "metadata": {},
   "outputs": [
    {
     "data": {
      "text/plain": [
       "((611, 168253), (611, 168253))"
      ]
     },
     "execution_count": 21,
     "metadata": {},
     "output_type": "execute_result"
    }
   ],
   "source": [
    "R.shape, R_hat.shape"
   ]
  },
  {
   "cell_type": "code",
   "execution_count": 22,
   "metadata": {},
   "outputs": [
    {
     "data": {
      "text/plain": [
       "629.5886239395618"
      ]
     },
     "execution_count": 22,
     "metadata": {},
     "output_type": "execute_result"
    }
   ],
   "source": [
    "# reconstruction error\n",
    "np.sqrt(np.sum(np.square(R - R_hat)))"
   ]
  },
  {
   "cell_type": "code",
   "execution_count": 23,
   "metadata": {},
   "outputs": [
    {
     "data": {
      "text/plain": [
       "629.4625703869821"
      ]
     },
     "execution_count": 23,
     "metadata": {},
     "output_type": "execute_result"
    }
   ],
   "source": [
    "model.reconstruction_err_"
   ]
  },
  {
   "cell_type": "markdown",
   "metadata": {},
   "source": [
    "---\n",
    "## 2. Model deployment: Make recommendations for a new user"
   ]
  },
  {
   "cell_type": "markdown",
   "metadata": {},
   "source": [
    "### Save the trained model on your hard drive"
   ]
  },
  {
   "cell_type": "code",
   "execution_count": 24,
   "metadata": {},
   "outputs": [],
   "source": [
    "with open('./nmf_recommender.pkl', 'wb') as file:\n",
    "    pickle.dump(model, file)"
   ]
  },
  {
   "cell_type": "code",
   "execution_count": 25,
   "metadata": {},
   "outputs": [
    {
     "name": "stdout",
     "output_type": "stream",
     "text": [
      "matrix_factorization_filled.ipynb  ml-latest-small  nmf_recommender.pkl\r\n"
     ]
    }
   ],
   "source": [
    "!ls"
   ]
  },
  {
   "cell_type": "markdown",
   "metadata": {},
   "source": [
    "### Read the model from hard drive"
   ]
  },
  {
   "cell_type": "code",
   "execution_count": 26,
   "metadata": {},
   "outputs": [],
   "source": [
    "with open('./nmf_recommender.pkl', 'rb') as file:\n",
    "    model = pickle.load(file)"
   ]
  },
  {
   "cell_type": "code",
   "execution_count": 27,
   "metadata": {},
   "outputs": [
    {
     "data": {
      "text/plain": [
       "629.4625703869821"
      ]
     },
     "execution_count": 27,
     "metadata": {},
     "output_type": "execute_result"
    }
   ],
   "source": [
    "model.reconstruction_err_"
   ]
  },
  {
   "cell_type": "markdown",
   "metadata": {},
   "source": [
    "### Receive a user query"
   ]
  },
  {
   "cell_type": "code",
   "execution_count": 28,
   "metadata": {},
   "outputs": [
    {
     "data": {
      "text/plain": [
       "{4470: 5, 48: 5, 594: 5, 27619: 5, 152081: 5, 595: 5, 616: 5, 1029: 5}"
      ]
     },
     "execution_count": 28,
     "metadata": {},
     "output_type": "execute_result"
    }
   ],
   "source": [
    "query"
   ]
  },
  {
   "cell_type": "code",
   "execution_count": 29,
   "metadata": {},
   "outputs": [],
   "source": [
    "#R[1,:]"
   ]
  },
  {
   "cell_type": "markdown",
   "metadata": {},
   "source": [
    "### Construct a user vector\n",
    "\n",
    "we need the same input as was used during training!"
   ]
  },
  {
   "cell_type": "code",
   "execution_count": 30,
   "metadata": {},
   "outputs": [],
   "source": [
    "#list(query.values())"
   ]
  },
  {
   "cell_type": "code",
   "execution_count": 31,
   "metadata": {},
   "outputs": [
    {
     "data": {
      "text/plain": [
       "([5, 5, 5, 5, 5, 5, 5, 5],\n",
       " [0, 0, 0, 0, 0, 0, 0, 0],\n",
       " [4470, 48, 594, 27619, 152081, 595, 616, 1029])"
      ]
     },
     "execution_count": 31,
     "metadata": {},
     "output_type": "execute_result"
    }
   ],
   "source": [
    "data = list(query.values())   # the ratings of the new user\n",
    "row_ind = [0]*len(data)       # we use just a single row 0 for this user \n",
    "col_ind = list(query.keys())  # the columns (=movieId) of the ratings\n",
    "data, row_ind, col_ind"
   ]
  },
  {
   "cell_type": "code",
   "execution_count": 32,
   "metadata": {},
   "outputs": [
    {
     "data": {
      "text/plain": [
       "<1x168253 sparse matrix of type '<class 'numpy.int64'>'\n",
       "\twith 8 stored elements in Compressed Sparse Row format>"
      ]
     },
     "execution_count": 32,
     "metadata": {},
     "output_type": "execute_result"
    }
   ],
   "source": [
    "# new user vector: needs to have the same format as the training data\n",
    "\n",
    "user_vec = csr_matrix((data, (row_ind, col_ind)), shape=(1, R.shape[1]))\n",
    "user_vec"
   ]
  },
  {
   "cell_type": "code",
   "execution_count": 33,
   "metadata": {},
   "outputs": [
    {
     "data": {
      "text/plain": [
       "<611x168253 sparse matrix of type '<class 'numpy.float64'>'\n",
       "\twith 66658 stored elements in Compressed Sparse Row format>"
      ]
     },
     "execution_count": 33,
     "metadata": {},
     "output_type": "execute_result"
    }
   ],
   "source": [
    "R"
   ]
  },
  {
   "cell_type": "markdown",
   "metadata": {},
   "source": [
    "### Calculate the score\n",
    "\n",
    "1. transform the user vector to its dense representation (encoding) \n",
    "2. inverse transform the dense vector into the sparse representation (decoding)\n",
    "\n",
    "$$\n",
    "\\hat{r}_{ij} = p_i' \\cdot q_j \n",
    "$$"
   ]
  },
  {
   "cell_type": "code",
   "execution_count": 34,
   "metadata": {},
   "outputs": [
    {
     "name": "stdout",
     "output_type": "stream",
     "text": [
      "violation: 1.0\n",
      "violation: 0.9987903118950021\n",
      "violation: 0.018533304108427837\n",
      "violation: 0.0017041118715157334\n",
      "Converged at iteration 5\n"
     ]
    },
    {
     "data": {
      "text/plain": [
       "0         0.000000\n",
       "1         0.409770\n",
       "2         0.301097\n",
       "3         0.023311\n",
       "4         0.000000\n",
       "            ...   \n",
       "168248    0.000000\n",
       "168249    0.000000\n",
       "168250    0.000000\n",
       "168251    0.000000\n",
       "168252    0.019530\n",
       "Length: 168253, dtype: float64"
      ]
     },
     "execution_count": 34,
     "metadata": {},
     "output_type": "execute_result"
    }
   ],
   "source": [
    "# user_vec -> encoding -> p_user_vec -> decoding -> user_vec_hat\n",
    "\n",
    "\n",
    "scores = model.inverse_transform(model.transform(user_vec))\n",
    "\n",
    "# convert to a pandas series\n",
    "scores = pd.Series(scores[0])\n",
    "scores"
   ]
  },
  {
   "cell_type": "markdown",
   "metadata": {},
   "source": [
    "### Give recommendations"
   ]
  },
  {
   "cell_type": "code",
   "execution_count": 35,
   "metadata": {},
   "outputs": [
    {
     "data": {
      "text/plain": [
       "dict_keys([4470, 48, 594, 27619, 152081, 595, 616, 1029])"
      ]
     },
     "execution_count": 35,
     "metadata": {},
     "output_type": "execute_result"
    }
   ],
   "source": [
    "query.keys()"
   ]
  },
  {
   "cell_type": "code",
   "execution_count": 36,
   "metadata": {},
   "outputs": [],
   "source": [
    "# give a zero score to movies the user has allready seen\n",
    "scores[query.keys()] = 0"
   ]
  },
  {
   "cell_type": "code",
   "execution_count": 37,
   "metadata": {},
   "outputs": [
    {
     "data": {
      "text/plain": [
       "364      0.973785\n",
       "588      0.817745\n",
       "2081     0.705287\n",
       "34       0.676333\n",
       "596      0.609434\n",
       "           ...   \n",
       "56557    0.000000\n",
       "56558    0.000000\n",
       "56559    0.000000\n",
       "56560    0.000000\n",
       "84126    0.000000\n",
       "Length: 168253, dtype: float64"
      ]
     },
     "execution_count": 37,
     "metadata": {},
     "output_type": "execute_result"
    }
   ],
   "source": [
    "# sort the scores from high to low \n",
    "scores = scores.sort_values(ascending=False)\n",
    "scores"
   ]
  },
  {
   "cell_type": "code",
   "execution_count": 38,
   "metadata": {},
   "outputs": [
    {
     "data": {
      "text/plain": [
       "Int64Index([364, 588, 2081, 34, 596, 1907, 2078, 1022, 1028, 3114], dtype='int64')"
      ]
     },
     "execution_count": 38,
     "metadata": {},
     "output_type": "execute_result"
    }
   ],
   "source": [
    "# get the movieIds of the top 10 entries\n",
    "recommendations = scores.head(10).index\n",
    "recommendations"
   ]
  },
  {
   "cell_type": "code",
   "execution_count": 39,
   "metadata": {},
   "outputs": [
    {
     "data": {
      "text/html": [
       "<div>\n",
       "<style scoped>\n",
       "    .dataframe tbody tr th:only-of-type {\n",
       "        vertical-align: middle;\n",
       "    }\n",
       "\n",
       "    .dataframe tbody tr th {\n",
       "        vertical-align: top;\n",
       "    }\n",
       "\n",
       "    .dataframe thead th {\n",
       "        text-align: right;\n",
       "    }\n",
       "</style>\n",
       "<table border=\"1\" class=\"dataframe\">\n",
       "  <thead>\n",
       "    <tr style=\"text-align: right;\">\n",
       "      <th></th>\n",
       "      <th>title</th>\n",
       "      <th>genres</th>\n",
       "    </tr>\n",
       "  </thead>\n",
       "  <tbody>\n",
       "    <tr>\n",
       "      <th>364</th>\n",
       "      <td>Lion King, The (1994)</td>\n",
       "      <td>Adventure|Animation|Children|Drama|Musical|IMAX</td>\n",
       "    </tr>\n",
       "    <tr>\n",
       "      <th>588</th>\n",
       "      <td>Aladdin (1992)</td>\n",
       "      <td>Adventure|Animation|Children|Comedy|Musical</td>\n",
       "    </tr>\n",
       "    <tr>\n",
       "      <th>2081</th>\n",
       "      <td>Little Mermaid, The (1989)</td>\n",
       "      <td>Animation|Children|Comedy|Musical|Romance</td>\n",
       "    </tr>\n",
       "    <tr>\n",
       "      <th>34</th>\n",
       "      <td>Babe (1995)</td>\n",
       "      <td>Children|Drama</td>\n",
       "    </tr>\n",
       "    <tr>\n",
       "      <th>596</th>\n",
       "      <td>Pinocchio (1940)</td>\n",
       "      <td>Animation|Children|Fantasy|Musical</td>\n",
       "    </tr>\n",
       "    <tr>\n",
       "      <th>1907</th>\n",
       "      <td>Mulan (1998)</td>\n",
       "      <td>Adventure|Animation|Children|Comedy|Drama|Musi...</td>\n",
       "    </tr>\n",
       "    <tr>\n",
       "      <th>2078</th>\n",
       "      <td>Jungle Book, The (1967)</td>\n",
       "      <td>Animation|Children|Comedy|Musical</td>\n",
       "    </tr>\n",
       "    <tr>\n",
       "      <th>1022</th>\n",
       "      <td>Cinderella (1950)</td>\n",
       "      <td>Animation|Children|Fantasy|Musical|Romance</td>\n",
       "    </tr>\n",
       "    <tr>\n",
       "      <th>1028</th>\n",
       "      <td>Mary Poppins (1964)</td>\n",
       "      <td>Children|Comedy|Fantasy|Musical</td>\n",
       "    </tr>\n",
       "    <tr>\n",
       "      <th>3114</th>\n",
       "      <td>Toy Story 2 (1999)</td>\n",
       "      <td>Adventure|Animation|Children|Comedy|Fantasy</td>\n",
       "    </tr>\n",
       "  </tbody>\n",
       "</table>\n",
       "</div>"
      ],
      "text/plain": [
       "                           title  \\\n",
       "364        Lion King, The (1994)   \n",
       "588               Aladdin (1992)   \n",
       "2081  Little Mermaid, The (1989)   \n",
       "34                   Babe (1995)   \n",
       "596             Pinocchio (1940)   \n",
       "1907                Mulan (1998)   \n",
       "2078     Jungle Book, The (1967)   \n",
       "1022           Cinderella (1950)   \n",
       "1028         Mary Poppins (1964)   \n",
       "3114          Toy Story 2 (1999)   \n",
       "\n",
       "                                                 genres  \n",
       "364     Adventure|Animation|Children|Drama|Musical|IMAX  \n",
       "588         Adventure|Animation|Children|Comedy|Musical  \n",
       "2081          Animation|Children|Comedy|Musical|Romance  \n",
       "34                                       Children|Drama  \n",
       "596                  Animation|Children|Fantasy|Musical  \n",
       "1907  Adventure|Animation|Children|Comedy|Drama|Musi...  \n",
       "2078                  Animation|Children|Comedy|Musical  \n",
       "1022         Animation|Children|Fantasy|Musical|Romance  \n",
       "1028                    Children|Comedy|Fantasy|Musical  \n",
       "3114        Adventure|Animation|Children|Comedy|Fantasy  "
      ]
     },
     "execution_count": 39,
     "metadata": {},
     "output_type": "execute_result"
    }
   ],
   "source": [
    "movies.set_index('movieId').loc[recommendations]"
   ]
  },
  {
   "cell_type": "code",
   "execution_count": 40,
   "metadata": {},
   "outputs": [],
   "source": [
    "# recall@10: fraction of relevant items in the top 10 recommendations\n"
   ]
  },
  {
   "cell_type": "code",
   "execution_count": 41,
   "metadata": {},
   "outputs": [],
   "source": [
    "# precision@10: fraction of recommendations that are relevant\n"
   ]
  },
  {
   "cell_type": "markdown",
   "metadata": {},
   "source": [
    "---\n",
    "## 3. Project Task: NMF recommender function\n",
    "\n",
    "1. Collect different user queries for \"typical\" users (e.g. a horror movie buff) and evaluate the algorithm\n",
    "2. Set the number of components to a very low number (e.g. 2). What happens to the recommendations?\n",
    "3. Implement a recommender function that recommends movies to a new user based on the NMF model!\n",
    "\n",
    "Note: Training of the model happens outside of the function! Don't retrain the model every time you want to calculate recommendations for a user.\n"
   ]
  },
  {
   "cell_type": "code",
   "execution_count": 55,
   "metadata": {},
   "outputs": [
    {
     "data": {
      "text/html": [
       "<div>\n",
       "<style scoped>\n",
       "    .dataframe tbody tr th:only-of-type {\n",
       "        vertical-align: middle;\n",
       "    }\n",
       "\n",
       "    .dataframe tbody tr th {\n",
       "        vertical-align: top;\n",
       "    }\n",
       "\n",
       "    .dataframe thead th {\n",
       "        text-align: right;\n",
       "    }\n",
       "</style>\n",
       "<table border=\"1\" class=\"dataframe\">\n",
       "  <thead>\n",
       "    <tr style=\"text-align: right;\">\n",
       "      <th></th>\n",
       "      <th>title</th>\n",
       "      <th>genres</th>\n",
       "    </tr>\n",
       "  </thead>\n",
       "  <tbody>\n",
       "    <tr>\n",
       "      <th>364</th>\n",
       "      <td>Lion King, The (1994)</td>\n",
       "      <td>Adventure|Animation|Children|Drama|Musical|IMAX</td>\n",
       "    </tr>\n",
       "    <tr>\n",
       "      <th>588</th>\n",
       "      <td>Aladdin (1992)</td>\n",
       "      <td>Adventure|Animation|Children|Comedy|Musical</td>\n",
       "    </tr>\n",
       "    <tr>\n",
       "      <th>2081</th>\n",
       "      <td>Little Mermaid, The (1989)</td>\n",
       "      <td>Animation|Children|Comedy|Musical|Romance</td>\n",
       "    </tr>\n",
       "    <tr>\n",
       "      <th>34</th>\n",
       "      <td>Babe (1995)</td>\n",
       "      <td>Children|Drama</td>\n",
       "    </tr>\n",
       "    <tr>\n",
       "      <th>596</th>\n",
       "      <td>Pinocchio (1940)</td>\n",
       "      <td>Animation|Children|Fantasy|Musical</td>\n",
       "    </tr>\n",
       "    <tr>\n",
       "      <th>1907</th>\n",
       "      <td>Mulan (1998)</td>\n",
       "      <td>Adventure|Animation|Children|Comedy|Drama|Musi...</td>\n",
       "    </tr>\n",
       "    <tr>\n",
       "      <th>2078</th>\n",
       "      <td>Jungle Book, The (1967)</td>\n",
       "      <td>Animation|Children|Comedy|Musical</td>\n",
       "    </tr>\n",
       "    <tr>\n",
       "      <th>1022</th>\n",
       "      <td>Cinderella (1950)</td>\n",
       "      <td>Animation|Children|Fantasy|Musical|Romance</td>\n",
       "    </tr>\n",
       "    <tr>\n",
       "      <th>1028</th>\n",
       "      <td>Mary Poppins (1964)</td>\n",
       "      <td>Children|Comedy|Fantasy|Musical</td>\n",
       "    </tr>\n",
       "    <tr>\n",
       "      <th>3114</th>\n",
       "      <td>Toy Story 2 (1999)</td>\n",
       "      <td>Adventure|Animation|Children|Comedy|Fantasy</td>\n",
       "    </tr>\n",
       "  </tbody>\n",
       "</table>\n",
       "</div>"
      ],
      "text/plain": [
       "                           title  \\\n",
       "364        Lion King, The (1994)   \n",
       "588               Aladdin (1992)   \n",
       "2081  Little Mermaid, The (1989)   \n",
       "34                   Babe (1995)   \n",
       "596             Pinocchio (1940)   \n",
       "1907                Mulan (1998)   \n",
       "2078     Jungle Book, The (1967)   \n",
       "1022           Cinderella (1950)   \n",
       "1028         Mary Poppins (1964)   \n",
       "3114          Toy Story 2 (1999)   \n",
       "\n",
       "                                                 genres  \n",
       "364     Adventure|Animation|Children|Drama|Musical|IMAX  \n",
       "588         Adventure|Animation|Children|Comedy|Musical  \n",
       "2081          Animation|Children|Comedy|Musical|Romance  \n",
       "34                                       Children|Drama  \n",
       "596                  Animation|Children|Fantasy|Musical  \n",
       "1907  Adventure|Animation|Children|Comedy|Drama|Musi...  \n",
       "2078                  Animation|Children|Comedy|Musical  \n",
       "1022         Animation|Children|Fantasy|Musical|Romance  \n",
       "1028                    Children|Comedy|Fantasy|Musical  \n",
       "3114        Adventure|Animation|Children|Comedy|Fantasy  "
      ]
     },
     "execution_count": 55,
     "metadata": {},
     "output_type": "execute_result"
    }
   ],
   "source": [
    "# collaborative filtering = look at ratings only!\n",
    "def recommend_nmf(query, model, ratings, k=10):\n",
    "    \"\"\"\n",
    "    Filters and recommends the top k movies for any given input query based on a trained NMF model. \n",
    "    Returns a list of k movie ids.\n",
    "    \"\"\"\n",
    "    # 1. candiate generation\n",
    "    #print(R)\n",
    "    # construct a user vector\n",
    "    data = list(query.values())   # the ratings of the new user\n",
    "    row_ind = [0]*len(data)       # we use just a single row 0 for this user \n",
    "    col_ind = list(query.keys()) \n",
    "    user_vec = csr_matrix((data, (row_ind, col_ind)), shape=(1, R.shape[1]))\n",
    "    \n",
    "    # 2. scoring\n",
    "    \n",
    "    # calculate the score with the NMF model\n",
    "    # user_vec -> encoding -> p_user_vec -> decoding -> user_vec_hat\n",
    "    scores = model.inverse_transform(model.transform(user_vec))\n",
    "    # convert to a pandas series\n",
    "    scores = pd.Series(scores[0])\n",
    "    \n",
    "    # 3. ranking\n",
    "    \n",
    "    # filter out movies allready seen by the user\n",
    "    # give a zero score to movies the user has allready seen\n",
    "    scores[query.keys()] = 0\n",
    "    # return the top-k highst rated movie ids or titles\n",
    "    recommendations = scores.head(10).index\n",
    "    \n",
    "    return recommendations\n",
    "movies.set_index('movieId').loc[recommendations]"
   ]
  },
  {
   "cell_type": "code",
   "execution_count": null,
   "metadata": {},
   "outputs": [],
   "source": [
    "# recommender.py\n",
    "# from recommender import recommend_nmf"
   ]
  }
 ],
 "metadata": {
  "kernelspec": {
   "display_name": "Python 3 (ipykernel)",
   "language": "python",
   "name": "python3"
  },
  "language_info": {
   "codemirror_mode": {
    "name": "ipython",
    "version": 3
   },
   "file_extension": ".py",
   "mimetype": "text/x-python",
   "name": "python",
   "nbconvert_exporter": "python",
   "pygments_lexer": "ipython3",
   "version": "3.7.6"
  }
 },
 "nbformat": 4,
 "nbformat_minor": 4
}
